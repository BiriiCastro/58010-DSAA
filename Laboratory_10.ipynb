{
  "nbformat": 4,
  "nbformat_minor": 0,
  "metadata": {
    "colab": {
      "provenance": [],
      "authorship_tag": "ABX9TyMVZzgIIMIRjbXuXh9GJIBv",
      "include_colab_link": true
    },
    "kernelspec": {
      "name": "python3",
      "display_name": "Python 3"
    },
    "language_info": {
      "name": "python"
    }
  },
  "cells": [
    {
      "cell_type": "markdown",
      "metadata": {
        "id": "view-in-github",
        "colab_type": "text"
      },
      "source": [
        "<a href=\"https://colab.research.google.com/github/BiriiCastro/58010-DSAA/blob/main/Laboratory_10.ipynb\" target=\"_parent\"><img src=\"https://colab.research.google.com/assets/colab-badge.svg\" alt=\"Open In Colab\"/></a>"
      ]
    },
    {
      "cell_type": "code",
      "source": [
        "class BinaryTreeNode:\n",
        "    def __init__(self, value):\n",
        "        self.value = value\n",
        "        self.left = None\n",
        "        self.right = None\n",
        "        self.pre_order_number = None\n",
        "        self.in_order_number = None\n",
        "        self.post_order_number = None\n",
        "\n",
        "class BinaryTree:\n",
        "    def __init__(self, root):\n",
        "        self.root = BinaryTreeNode(root)\n",
        "\n",
        "    def preOrderNumber(self, node, number=1):\n",
        "        if node:\n",
        "            node.pre_order_number = number\n",
        "            number = self.preOrderNumber(node.left, number + 1)\n",
        "            number = self.preOrderNumber(node.right, number)\n",
        "        return number\n",
        "\n",
        "    def inOrderNumber(self, node, number=1):\n",
        "        if node:\n",
        "            number = self.inOrderNumber(node.left, number)\n",
        "            node.in_order_number = number\n",
        "            number += 1\n",
        "            number = self.inOrderNumber(node.right, number)\n",
        "        return number\n",
        "\n",
        "    def postOrderNumber(self, node, number=1):\n",
        "        if node:\n",
        "            number = self.postOrderNumber(node.left, number)\n",
        "            number = self.postOrderNumber(node.right, number)\n",
        "            node.post_order_number = number\n",
        "            number += 1\n",
        "        return number\n",
        "\n",
        "\n",
        "tree = BinaryTree(1)\n",
        "tree.root.left = BinaryTreeNode(2)\n",
        "tree.root.right = BinaryTreeNode(3)\n",
        "tree.root.left.left = BinaryTreeNode(4)\n",
        "tree.root.left.right = BinaryTreeNode(5)\n",
        "tree.root.right.left = BinaryTreeNode(6)\n",
        "tree.root.right.right = BinaryTreeNode(7)\n",
        "\n",
        "tree.preOrderNumber(tree.root)\n",
        "tree.inOrderNumber(tree.root)\n",
        "tree.postOrderNumber(tree.root)\n",
        "\n",
        "def print_node_info(node):\n",
        "    print(f\"Value: {node.value}, Pre-order: {node.pre_order_number}, In-order: {node.in_order_number}, Post-order: {node.post_order_number}\")\n",
        "\n",
        "print(\"Node information:\")\n",
        "print_node_info(tree.root)\n",
        "print_node_info(tree.root.left)\n",
        "print_node_info(tree.root.right)\n",
        "print_node_info(tree.root.left.left)\n",
        "print_node_info(tree.root.left.right)\n",
        "print_node_info(tree.root.right.left)\n",
        "print_node_info(tree.root.right.right)\n",
        "\n"
      ],
      "metadata": {
        "colab": {
          "base_uri": "https://localhost:8080/"
        },
        "id": "ojoY_6XSLCTk",
        "outputId": "e008f588-a026-43bc-d11a-03e489cec51f"
      },
      "execution_count": 2,
      "outputs": [
        {
          "output_type": "stream",
          "name": "stdout",
          "text": [
            "Node information:\n",
            "Value: 1, Pre-order: 1, In-order: 4, Post-order: 7\n",
            "Value: 2, Pre-order: 2, In-order: 2, Post-order: 3\n",
            "Value: 3, Pre-order: 5, In-order: 6, Post-order: 6\n",
            "Value: 4, Pre-order: 3, In-order: 1, Post-order: 1\n",
            "Value: 5, Pre-order: 4, In-order: 3, Post-order: 2\n",
            "Value: 6, Pre-order: 6, In-order: 5, Post-order: 4\n",
            "Value: 7, Pre-order: 7, In-order: 7, Post-order: 5\n"
          ]
        }
      ]
    }
  ]
}