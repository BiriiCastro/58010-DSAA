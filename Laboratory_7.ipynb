{
  "nbformat": 4,
  "nbformat_minor": 0,
  "metadata": {
    "colab": {
      "provenance": [],
      "authorship_tag": "ABX9TyM6BIm6B6VOqjfKPdyclC4R",
      "include_colab_link": true
    },
    "kernelspec": {
      "name": "python3",
      "display_name": "Python 3"
    },
    "language_info": {
      "name": "python"
    }
  },
  "cells": [
    {
      "cell_type": "markdown",
      "metadata": {
        "id": "view-in-github",
        "colab_type": "text"
      },
      "source": [
        "<a href=\"https://colab.research.google.com/github/BiriiCastro/58010-DSAA/blob/main/Laboratory_7.ipynb\" target=\"_parent\"><img src=\"https://colab.research.google.com/assets/colab-badge.svg\" alt=\"Open In Colab\"/></a>"
      ]
    },
    {
      "cell_type": "code",
      "execution_count": null,
      "metadata": {
        "colab": {
          "base_uri": "https://localhost:8080/"
        },
        "id": "IFz7vxYfFhEW",
        "outputId": "990f89c1-ae8e-433d-9ee9-fb84aed928f8"
      },
      "outputs": [
        {
          "output_type": "stream",
          "name": "stdout",
          "text": [
            "Prime Numbers:\n",
            "2 3 5 7 11 13 17 19 \n",
            "Head: 2\n",
            "Tail: 19\n"
          ]
        }
      ],
      "source": [
        "class Node:\n",
        "    def __init__(self, data):\n",
        "        self.data = data\n",
        "        self.next = None\n",
        "\n",
        "class SinglyLinkedList:\n",
        "    def __init__(self):\n",
        "        self.head = None\n",
        "        self.tail = None\n",
        "\n",
        "    def append(self, data):\n",
        "        new_node = Node(data)\n",
        "        if not self.head:\n",
        "            self.head = new_node\n",
        "            self.tail = new_node\n",
        "        else:\n",
        "            self.tail.next = new_node\n",
        "            self.tail = new_node\n",
        "\n",
        "def prime(num):\n",
        "    if num < 2:\n",
        "        return False\n",
        "    for x in range(2, int(num ** 0.5) + 1):\n",
        "        if num % x == 0:\n",
        "            return False\n",
        "    return True\n",
        "\n",
        "def create_prime_llist(limit):\n",
        "    prime_list = SinglyLinkedList()\n",
        "    for num in range(2, limit):\n",
        "        if prime(num):\n",
        "            prime_list.append(num)\n",
        "    return prime_list\n",
        "\n",
        "def display_llist(linked_list):\n",
        "    current = linked_list.head\n",
        "    while current:\n",
        "        print(current.data, end=\" \")\n",
        "        current = current.next\n",
        "\n",
        "limit = 20\n",
        "prime_llist = create_prime_llist(limit)\n",
        "\n",
        "print(f\"Head: {prime_llist.head.data}\")\n",
        "print(f\"Tail: {prime_llist.tail.data}\")\n",
        "print(\"Prime Numbers: \")\n",
        "display_llist(prime_llist)\n",
        "\n"
      ]
    }
  ]
}