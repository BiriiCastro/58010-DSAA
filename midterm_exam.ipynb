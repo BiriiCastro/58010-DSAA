{
  "nbformat": 4,
  "nbformat_minor": 0,
  "metadata": {
    "colab": {
      "provenance": [],
      "authorship_tag": "ABX9TyMmQJ7asG5A9vB1WYzi/yT6",
      "include_colab_link": true
    },
    "kernelspec": {
      "name": "python3",
      "display_name": "Python 3"
    },
    "language_info": {
      "name": "python"
    }
  },
  "cells": [
    {
      "cell_type": "markdown",
      "metadata": {
        "id": "view-in-github",
        "colab_type": "text"
      },
      "source": [
        "<a href=\"https://colab.research.google.com/github/BiriiCastro/58010-DSAA/blob/main/midterm_exam.ipynb\" target=\"_parent\"><img src=\"https://colab.research.google.com/assets/colab-badge.svg\" alt=\"Open In Colab\"/></a>"
      ]
    },
    {
      "cell_type": "code",
      "execution_count": 2,
      "metadata": {
        "colab": {
          "base_uri": "https://localhost:8080/"
        },
        "id": "clCfM6Djj7uf",
        "outputId": "4108ea1e-4b15-47f8-e659-e7d801525b15"
      },
      "outputs": [
        {
          "output_type": "stream",
          "name": "stdout",
          "text": [
            "[{'A', 'B'}, {'C', 'B'}, {'B', 'E'}, {'B', 'F'}, {'D', 'C'}, {'C', 'E'}, {'C', 'F'}, {'C', 'I'}, {'C', 'M'}, {'D', 'K'}, {'L', 'D'}, {'N', 'E'}, {'G', 'F'}, {'I', 'F'}, {'G', 'I'}, {'G', 'J'}, {'J', 'I'}, {'K', 'I'}, {'J', 'K'}, {'L', 'M'}, {'P', 'L'}, {'N', 'M'}, {'O', 'M'}, {'P', 'M'}, {'O', 'N'}, {'P', 'O'}]\n"
          ]
        }
      ],
      "source": [
        "#Display Graph G29's Edges\n",
        "\n",
        "class graph:\n",
        "   def __init__(self,gdict=None):\n",
        "      if gdict is None:\n",
        "         gdict = {}\n",
        "      self.gdict = gdict\n",
        "\n",
        "   def edges(self):\n",
        "      return self.findedges()\n",
        "\n",
        "   def findedges(self):\n",
        "      edgename = []\n",
        "      for vrtx in self.gdict:\n",
        "         for nxtvrtx in self.gdict[vrtx]:\n",
        "            if {nxtvrtx, vrtx} not in edgename:\n",
        "               edgename.append({vrtx, nxtvrtx})\n",
        "      return edgename\n",
        "\n",
        "# Dictionary Elements\n",
        "graph_elements = {\n",
        "   \"A\" : [\"B\"],\n",
        "   \"B\" : [\"A\", \"C\", \"E\", \"F\"],\n",
        "   \"C\" : [\"B\", \"D\", \"E\", \"F\", \"I\", \"M\"],\n",
        "   \"D\" : [\"C\", \"K\", \"L\"],\n",
        "   \"E\" : [\"B\", \"C\", \"N\"],\n",
        "   \"F\" : [\"B\", \"C\", \"G\", \"I\"],\n",
        "   \"G\" : [\"F\", \"I\", \"J\"],\n",
        "   \"I\" : [\"C\", \"F\", \"G\", \"J\", \"K\"],\n",
        "   \"J\" : [\"G\", \"I\", \"K\"],\n",
        "   \"K\" : [\"D\", \"I\", \"J\"],\n",
        "   \"L\" : [\"D\", \"M\", \"P\"],\n",
        "   \"M\" : [\"C\", \"L\", \"N\", \"O\", \"P\"],\n",
        "   \"N\" : [\"E\", \"M\", \"O\"],\n",
        "   \"O\" : [\"M\", \"N\", \"P\"],\n",
        "   \"P\" : [\"L\", \"M\", \"O\"],\n",
        "}\n",
        "g = graph(graph_elements)\n",
        "print(g.edges())"
      ]
    },
    {
      "cell_type": "code",
      "source": [
        "# Display Graph G29's Vertices\n",
        "\n",
        "class graph:\n",
        "   def __init__(self,gdict=None):\n",
        "      if gdict is None:\n",
        "         gdict = []\n",
        "      self.gdict = gdict\n",
        "\n",
        "   def getVertices(self):\n",
        "      return list(self.gdict.keys())\n",
        "\n",
        "# Dictionary Elements\n",
        "\n",
        "graph_elements = {\n",
        "   \"A\" : [\"B\"],\n",
        "   \"B\" : [\"A\", \"C\", \"E\", \"F\"],\n",
        "   \"C\" : [\"B\", \"D\", \"E\", \"F\", \"I\", \"M\"],\n",
        "   \"D\" : [\"C\", \"K\", \"L\"],\n",
        "   \"E\" : [\"B\", \"C\", \"N\"],\n",
        "   \"F\" : [\"B\", \"C\", \"G\", \"I\"],\n",
        "   \"G\" : [\"F\", \"I\", \"J\"],\n",
        "   \"I\" : [\"C\", \"F\", \"G\", \"J\", \"K\"],\n",
        "   \"J\" : [\"G\", \"I\", \"K\"],\n",
        "   \"K\" : [\"D\", \"I\", \"J\"],\n",
        "   \"L\" : [\"D\", \"M\", \"P\"],\n",
        "   \"M\" : [\"C\", \"L\", \"N\", \"O\", \"P\"],\n",
        "   \"N\" : [\"E\", \"M\", \"O\"],\n",
        "   \"O\" : [\"M\", \"N\", \"P\"],\n",
        "   \"P\" : [\"L\", \"M\", \"O\"],\n",
        "}\n",
        "g = graph(graph_elements)\n",
        "print(g.getVertices())"
      ],
      "metadata": {
        "colab": {
          "base_uri": "https://localhost:8080/"
        },
        "id": "mttPVcKYj-6c",
        "outputId": "f7d035da-a37a-409d-8ddd-3873c4098030"
      },
      "execution_count": 1,
      "outputs": [
        {
          "output_type": "stream",
          "name": "stdout",
          "text": [
            "['A', 'B', 'C', 'D', 'E', 'F', 'G', 'I', 'J', 'K', 'L', 'M', 'N', 'O', 'P']\n"
          ]
        }
      ]
    }
  ]
}