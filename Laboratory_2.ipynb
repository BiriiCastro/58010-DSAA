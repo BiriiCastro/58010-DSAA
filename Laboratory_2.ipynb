{
  "nbformat": 4,
  "nbformat_minor": 0,
  "metadata": {
    "colab": {
      "provenance": [],
      "authorship_tag": "ABX9TyMNs4RQAOyxZXKOvG72YWng",
      "include_colab_link": true
    },
    "kernelspec": {
      "name": "python3",
      "display_name": "Python 3"
    },
    "language_info": {
      "name": "python"
    }
  },
  "cells": [
    {
      "cell_type": "markdown",
      "metadata": {
        "id": "view-in-github",
        "colab_type": "text"
      },
      "source": [
        "<a href=\"https://colab.research.google.com/github/BiriiCastro/58010-DSAA/blob/main/Laboratory_2.ipynb\" target=\"_parent\"><img src=\"https://colab.research.google.com/assets/colab-badge.svg\" alt=\"Open In Colab\"/></a>"
      ]
    },
    {
      "cell_type": "code",
      "source": [
        "class Node:\n",
        "    def __init__(self, data):\n",
        "        self.data = data\n",
        "        self.next = None\n",
        "\n",
        "def Linked_List(sequence):\n",
        "    if not sequence:\n",
        "        return None\n",
        "    head = Node(sequence[0])\n",
        "    current = head\n",
        "    for item in sequence[1:]:\n",
        "        current.next = Node(item)\n",
        "        current = current.next\n",
        "    return head\n",
        "\n",
        "def min_max_values(node, min_value=None, max_value=None):\n",
        "    if node is None:\n",
        "        return min_value, max_value\n",
        "\n",
        "    curr_element = node.data\n",
        "\n",
        "    if min_value is None or curr_element < min_value:\n",
        "        min_value = curr_element\n",
        "\n",
        "    if max_value is None or curr_element > max_value:\n",
        "        max_value = curr_element\n",
        "\n",
        "    return min_max_values(node.next, min_value, max_value)\n",
        "\n",
        "\n",
        "\n",
        "sequence = [3, 1, 4, 1, 5, 9, 2, 6, 5, 3, 5]\n",
        "linked_list = Linked_List(sequence)\n",
        "\n",
        "min, max = min_max_values(linked_list)\n",
        "print(\"Minimum:\", min)\n",
        "print(\"Maximum:\", max)\n"
      ],
      "metadata": {
        "colab": {
          "base_uri": "https://localhost:8080/"
        },
        "id": "D7qzmse2FbLm",
        "outputId": "027a6a3e-18a0-44b4-b906-a1c62abe8862"
      },
      "execution_count": 9,
      "outputs": [
        {
          "output_type": "stream",
          "name": "stdout",
          "text": [
            "Minimum: 1\n",
            "Maximum: 9\n"
          ]
        }
      ]
    }
  ]
}