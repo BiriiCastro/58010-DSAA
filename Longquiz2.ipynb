{
  "nbformat": 4,
  "nbformat_minor": 0,
  "metadata": {
    "colab": {
      "provenance": [],
      "authorship_tag": "ABX9TyPzpy7RI0A/ULEI2zTO3rGC",
      "include_colab_link": true
    },
    "kernelspec": {
      "name": "python3",
      "display_name": "Python 3"
    },
    "language_info": {
      "name": "python"
    }
  },
  "cells": [
    {
      "cell_type": "markdown",
      "metadata": {
        "id": "view-in-github",
        "colab_type": "text"
      },
      "source": [
        "<a href=\"https://colab.research.google.com/github/BiriiCastro/58010-DSAA/blob/main/Longquiz2.ipynb\" target=\"_parent\"><img src=\"https://colab.research.google.com/assets/colab-badge.svg\" alt=\"Open In Colab\"/></a>"
      ]
    },
    {
      "cell_type": "code",
      "execution_count": 3,
      "metadata": {
        "colab": {
          "base_uri": "https://localhost:8080/"
        },
        "id": "AmUwBeX0Fx-b",
        "outputId": "3968c2f5-4bde-42d5-b4b9-cf48f8dd9b07"
      },
      "outputs": [
        {
          "output_type": "stream",
          "name": "stdout",
          "text": [
            "[{'E', 'I'}, {'K', 'E'}, {'J', 'E'}, {'M', 'E'}, {'F', 'J'}, {'F', 'I'}, {'K', 'F'}, {'F', 'P'}, {'H', 'I'}, {'J', 'H'}, {'K', 'H'}]\n"
          ]
        }
      ],
      "source": [
        "#Display Graph G28's Edges\n",
        "\n",
        "class graph:\n",
        "   def __init__(self,gdict=None):\n",
        "      if gdict is None:\n",
        "         gdict = {}\n",
        "      self.gdict = gdict\n",
        "\n",
        "   def edges(self):\n",
        "      return self.findedges()\n",
        "\n",
        "   def findedges(self):\n",
        "      edgename = []\n",
        "      for vrtx in self.gdict:\n",
        "         for nxtvrtx in self.gdict[vrtx]:\n",
        "            if {nxtvrtx, vrtx} not in edgename:\n",
        "               edgename.append({vrtx, nxtvrtx})\n",
        "      return edgename\n",
        "\n",
        "# Dictionary Elements\n",
        "graph_elements = {\n",
        "   \"E\" : [\"I\", \"K\", \"J\", \"M\"],\n",
        "   \"F\" : [\"J\", \"I\", \"K\", \"P\"],\n",
        "   \"H\" : [\"I\", \"J\", \"K\"],\n",
        "   \"I\" : [\"H\", \"E\", \"F\"],\n",
        "   \"J\" : [\"H\", \"E\", \"F\"],\n",
        "   \"K\" : [\"E\", \"F\", \"H\"],\n",
        "   \"M\" : [\"E\"],\n",
        "   \"P\" : [\"F\"]\n",
        "}\n",
        "g = graph(graph_elements)\n",
        "print(g.edges())"
      ]
    },
    {
      "cell_type": "code",
      "source": [
        "# Display Graph G28's Vertices\n",
        "\n",
        "class graph:\n",
        "   def __init__(self,gdict=None):\n",
        "      if gdict is None:\n",
        "         gdict = []\n",
        "      self.gdict = gdict\n",
        "\n",
        "   def getVertices(self):\n",
        "      return list(self.gdict.keys())\n",
        "\n",
        "# Dictionary Elements\n",
        "\n",
        "graph_elements = {\n",
        "   \"E\" : [\"I\", \"K\", \"J\", \"M\"],\n",
        "   \"F\" : [\"J\", \"I\", \"K\", \"P\"],\n",
        "   \"H\" : [\"I\", \"J\", \"K\"],\n",
        "   \"I\" : [\"H\", \"E\", \"F\"],\n",
        "   \"J\" : [\"H\", \"E\", \"F\"],\n",
        "   \"K\" : [\"E\", \"F\", \"H\"],\n",
        "   \"M\" : [\"E\"],\n",
        "   \"P\" : [\"F\"]\n",
        "}\n",
        "g = graph(graph_elements)\n",
        "print(g.getVertices())"
      ],
      "metadata": {
        "colab": {
          "base_uri": "https://localhost:8080/"
        },
        "id": "pgQv2RuvGF3U",
        "outputId": "14f69d99-3651-4523-867a-ac09f30fdedb"
      },
      "execution_count": 4,
      "outputs": [
        {
          "output_type": "stream",
          "name": "stdout",
          "text": [
            "['E', 'F', 'H', 'I', 'J', 'K', 'M', 'P']\n"
          ]
        }
      ]
    }
  ]
}