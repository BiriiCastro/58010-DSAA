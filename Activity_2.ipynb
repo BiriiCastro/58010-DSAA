{
  "nbformat": 4,
  "nbformat_minor": 0,
  "metadata": {
    "colab": {
      "provenance": [],
      "authorship_tag": "ABX9TyMQhp+zmMw7SLBWZ7I0tCFy",
      "include_colab_link": true
    },
    "kernelspec": {
      "name": "python3",
      "display_name": "Python 3"
    },
    "language_info": {
      "name": "python"
    }
  },
  "cells": [
    {
      "cell_type": "markdown",
      "metadata": {
        "id": "view-in-github",
        "colab_type": "text"
      },
      "source": [
        "<a href=\"https://colab.research.google.com/github/BiriiCastro/58010-DSAA/blob/main/Activity_2.ipynb\" target=\"_parent\"><img src=\"https://colab.research.google.com/assets/colab-badge.svg\" alt=\"Open In Colab\"/></a>"
      ]
    },
    {
      "cell_type": "code",
      "execution_count": 6,
      "metadata": {
        "colab": {
          "base_uri": "https://localhost:8080/"
        },
        "id": "kNTQVxnzEUXK",
        "outputId": "c53e4df1-2271-4cbf-b1a1-c60ca63eb247"
      },
      "outputs": [
        {
          "output_type": "stream",
          "name": "stdout",
          "text": [
            "Prime Numbers in the Linked List: [2, 3, 5, 7, 11, 13, 17, 19]\n",
            "Head of the Linked List: 2\n",
            "Tail of the Linked List: 19\n"
          ]
        }
      ],
      "source": [
        "class Node:\n",
        "    def __init__(self, data):\n",
        "        self.data = data\n",
        "        self.next = None\n",
        "\n",
        "class LinkedList:\n",
        "    def __init__(self):\n",
        "        self.head = None\n",
        "        self.tail = None\n",
        "\n",
        "    def append(self, data):\n",
        "        new_node = Node(data)\n",
        "        if not self.head:\n",
        "            self.head = new_node\n",
        "            self.tail = new_node\n",
        "        else:\n",
        "            self.tail.next = new_node\n",
        "            self.tail = new_node\n",
        "\n",
        "def prime(num):\n",
        "    if num <= 1:\n",
        "        return False\n",
        "    for i in range(2, int(num ** 0.5) + 1):\n",
        "        if num % i == 0:\n",
        "            return False\n",
        "    return True\n",
        "\n",
        "primeList = LinkedList()\n",
        "for num in range(2, 20):\n",
        "    if prime(num):\n",
        "        primeList.append(num)\n",
        "\n",
        "current = primeList.head\n",
        "primeNumbers = []\n",
        "\n",
        "while current:\n",
        "    primeNumbers.append(current.data)\n",
        "    current = current.next\n",
        "\n",
        "print(\"Prime Numbers in the Linked List:\", primeNumbers)\n",
        "print(\"Head of the Linked List:\", primeList.head.data)\n",
        "print(\"Tail of the Linked List:\", primeList.tail.data)\n"
      ]
    }
  ]
}