{
  "nbformat": 4,
  "nbformat_minor": 0,
  "metadata": {
    "colab": {
      "provenance": [],
      "authorship_tag": "ABX9TyOlnn6yad2zDaDpNDGBSNFl",
      "include_colab_link": true
    },
    "kernelspec": {
      "name": "python3",
      "display_name": "Python 3"
    },
    "language_info": {
      "name": "python"
    }
  },
  "cells": [
    {
      "cell_type": "markdown",
      "metadata": {
        "id": "view-in-github",
        "colab_type": "text"
      },
      "source": [
        "<a href=\"https://colab.research.google.com/github/BiriiCastro/58010-DSAA/blob/main/Laboratory_6.ipynb\" target=\"_parent\"><img src=\"https://colab.research.google.com/assets/colab-badge.svg\" alt=\"Open In Colab\"/></a>"
      ]
    },
    {
      "cell_type": "markdown",
      "source": [
        "Given the set of element {a,b,c,d,e, f } stored in a list, show the final state of the list, assuming we use the move-to-front heuristic and access the elements according to the following sequence: (a,b,c,d,e, f ,a,c, f ,b,d,e)."
      ],
      "metadata": {
        "id": "3oGNj1A80uCg"
      }
    },
    {
      "cell_type": "code",
      "source": [
        "class Node:\n",
        "    def __init__(self, data):\n",
        "        self.data = data\n",
        "        self.next = None\n",
        "\n",
        "\n",
        "class LinkedList:\n",
        "    def __init__(self):\n",
        "        self.head = None\n",
        "\n",
        "    def create_list(self, key):\n",
        "        if not self.head:\n",
        "            self.head = Node(key)\n",
        "        else:\n",
        "            curr = self.head\n",
        "            prev = None\n",
        "\n",
        "            while curr and curr.data != key:\n",
        "                prev = curr\n",
        "                curr = curr.next\n",
        "\n",
        "            if curr:\n",
        "                prev.next = curr.next\n",
        "                curr.next = self.head\n",
        "                self.head = curr\n",
        "            else:\n",
        "                new_node = Node(key)\n",
        "                new_node.next = self.head\n",
        "                self.head = new_node\n",
        "\n",
        "    def display_list(self):\n",
        "        curr = self.head\n",
        "        while curr:\n",
        "            print(curr.data, end=' ')\n",
        "            curr = curr.next\n",
        "\n",
        "\n",
        "llist = LinkedList()\n",
        "\n",
        "sequence = ['a', 'b', 'c', 'd', 'e', 'f', 'a', 'c', 'f', 'b', 'd', 'e']\n",
        "\n",
        "for character in sequence:\n",
        "    llist.create_list(character)\n",
        "\n",
        "llist.display_list()"
      ],
      "metadata": {
        "colab": {
          "base_uri": "https://localhost:8080/"
        },
        "id": "axDvKks_0a7_",
        "outputId": "9687702d-24b5-4b45-e65b-e3a3030a502a"
      },
      "execution_count": null,
      "outputs": [
        {
          "output_type": "stream",
          "name": "stdout",
          "text": [
            "e d b f c a \n"
          ]
        }
      ]
    },
    {
      "cell_type": "markdown",
      "source": [
        "●\tWrite a Python program to create a doubly linked list, append some items, count the number of items, insert a new item in front, and print in reverse order"
      ],
      "metadata": {
        "id": "FWx_uQ6Q3E3D"
      }
    },
    {
      "cell_type": "code",
      "source": [
        "class Node:\n",
        "    def __init__(self, data):\n",
        "        self.data = data\n",
        "        self.next = None\n",
        "        self.prev = None\n",
        "\n",
        "\n",
        "class DoublyLinkedList:\n",
        "    def __init__(self):\n",
        "        self.head = None\n",
        "        self.tail = None\n",
        "\n",
        "    def append_item(self, data):\n",
        "        new_node = Node(data)\n",
        "        if not self.head:\n",
        "            self.head = new_node\n",
        "            self.tail = new_node\n",
        "        else:\n",
        "            new_node.prev = self.tail\n",
        "            self.tail.next = new_node\n",
        "            self.tail = new_node\n",
        "\n",
        "    def insert_front(self, data):\n",
        "        new_node = Node(data)\n",
        "        if not self.head:\n",
        "            self.head = new_node\n",
        "            self.tail = new_node\n",
        "        else:\n",
        "            new_node.next = self.head\n",
        "            self.head.prev = new_node\n",
        "            self.head = new_node\n",
        "\n",
        "    def count_items(self):\n",
        "        count = 0\n",
        "        curr = self.head\n",
        "        while curr:\n",
        "            count += 1\n",
        "            curr = curr.next\n",
        "        return count\n",
        "\n",
        "    def reverse_print(self):\n",
        "        curr = self.tail\n",
        "        while curr:\n",
        "            print(curr.data, end=\" \")\n",
        "            curr = curr.prev\n",
        "        print()\n",
        "\n",
        "dllist = DoublyLinkedList()\n",
        "\n",
        "dllist.append_item(20)\n",
        "dllist.append_item(30)\n",
        "dllist.append_item(40)\n",
        "\n",
        "\n",
        "item_count = dllist.count_items()\n",
        "print(f\"Number of items: {item_count}\")\n",
        "\n",
        "dllist.insert_front(10)\n",
        "\n",
        "print(\"Reversed of Doubly Linked List:\")\n",
        "dllist.reverse_print()\n",
        "\n",
        "\n",
        "item_count = dllist.count_items()\n",
        "print(f\"Number of items: {item_count}\")"
      ],
      "metadata": {
        "id": "HQAhj8tm3FYo",
        "colab": {
          "base_uri": "https://localhost:8080/"
        },
        "outputId": "f70af037-4b8b-40e5-e460-81ce6a056877"
      },
      "execution_count": 11,
      "outputs": [
        {
          "output_type": "stream",
          "name": "stdout",
          "text": [
            "Number of items: 3\n",
            "Reversed of Doubly Linked List:\n",
            "40 30 20 10 \n",
            "Number of items: 4\n"
          ]
        }
      ]
    }
  ]
}