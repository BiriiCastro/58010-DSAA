{
  "nbformat": 4,
  "nbformat_minor": 0,
  "metadata": {
    "colab": {
      "provenance": [],
      "authorship_tag": "ABX9TyMTfjz1O/G+jx7scgVb5fHz",
      "include_colab_link": true
    },
    "kernelspec": {
      "name": "python3",
      "display_name": "Python 3"
    },
    "language_info": {
      "name": "python"
    }
  },
  "cells": [
    {
      "cell_type": "markdown",
      "metadata": {
        "id": "view-in-github",
        "colab_type": "text"
      },
      "source": [
        "<a href=\"https://colab.research.google.com/github/BiriiCastro/58010-DSAA/blob/main/Prelim_Exam.ipynb\" target=\"_parent\"><img src=\"https://colab.research.google.com/assets/colab-badge.svg\" alt=\"Open In Colab\"/></a>"
      ]
    },
    {
      "cell_type": "markdown",
      "source": [
        "Open your Python (Pycharm or Colab) or Dev C++ to create the source code for adding the test scores 26, 49, 98, 87, 62, 75 (30 points)"
      ],
      "metadata": {
        "id": "1Xv2NmkcV1u1"
      }
    },
    {
      "cell_type": "code",
      "execution_count": 1,
      "metadata": {
        "id": "_h0Y1R_oShIU",
        "colab": {
          "base_uri": "https://localhost:8080/"
        },
        "outputId": "997e5d8f-1cc6-4518-e8f4-8fbfd02ce9a1"
      },
      "outputs": [
        {
          "output_type": "stream",
          "name": "stdout",
          "text": [
            "397\n"
          ]
        }
      ],
      "source": [
        "test_scores = [26, 49, 98, 87, 62, 75]\n",
        "total = 0;\n",
        "\n",
        "for scores in test_scores:\n",
        "  total += scores;\n",
        "\n",
        "\n",
        "print(total)"
      ]
    },
    {
      "cell_type": "markdown",
      "source": [
        "\n",
        "Create a program to sort the test scores in ascending order (20 points)"
      ],
      "metadata": {
        "id": "YlAcKneMXDgC"
      }
    },
    {
      "cell_type": "code",
      "source": [
        "test_scores.sort()\n",
        "\n",
        "print(test_scores)"
      ],
      "metadata": {
        "colab": {
          "base_uri": "https://localhost:8080/"
        },
        "id": "s5PmRZU0XHVy",
        "outputId": "a8eabe1e-b83d-4b5d-dd0d-c891795b456d"
      },
      "execution_count": 2,
      "outputs": [
        {
          "output_type": "stream",
          "name": "stdout",
          "text": [
            "[26, 49, 62, 75, 87, 98]\n"
          ]
        }
      ]
    }
  ]
}