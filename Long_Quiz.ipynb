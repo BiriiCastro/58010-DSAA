{
  "nbformat": 4,
  "nbformat_minor": 0,
  "metadata": {
    "colab": {
      "provenance": [],
      "authorship_tag": "ABX9TyPCYLf/e6sHGCHdYwKQV5LR",
      "include_colab_link": true
    },
    "kernelspec": {
      "name": "python3",
      "display_name": "Python 3"
    },
    "language_info": {
      "name": "python"
    }
  },
  "cells": [
    {
      "cell_type": "markdown",
      "metadata": {
        "id": "view-in-github",
        "colab_type": "text"
      },
      "source": [
        "<a href=\"https://colab.research.google.com/github/BiriiCastro/58010-DSAA/blob/main/Long_Quiz.ipynb\" target=\"_parent\"><img src=\"https://colab.research.google.com/assets/colab-badge.svg\" alt=\"Open In Colab\"/></a>"
      ]
    },
    {
      "cell_type": "markdown",
      "source": [
        "Create a python or C++ program that appends each character of your full name and displays each character in reverse order (50 points)"
      ],
      "metadata": {
        "id": "XveAI2YHTlTP"
      }
    },
    {
      "cell_type": "code",
      "execution_count": 12,
      "metadata": {
        "colab": {
          "base_uri": "https://localhost:8080/"
        },
        "id": "15eEP4w_Tkdl",
        "outputId": "9686e4b8-2917-4702-a1d3-a48cd1599825"
      },
      "outputs": [
        {
          "output_type": "stream",
          "name": "stdout",
          "text": [
            "['o', 'r', 't', 's', 'a', 'C', ' ', 'o', 'n', 'i', 'h', 'C', ' ', 'y', 'o', 'B', ' ', 'y', 'l', 'l', 'i', 'B']\n"
          ]
        }
      ],
      "source": [
        "# my str name\n",
        "name = \"Billy Boy Chino Castro\"\n",
        "# array\n",
        "arr = []\n",
        "\n",
        "# append array\n",
        "for z in name:\n",
        "    arr.append(z)\n",
        "\n",
        "# reverse array\n",
        "arr.reverse()\n",
        "\n",
        "print(arr)\n"
      ]
    },
    {
      "cell_type": "markdown",
      "source": [
        "Using the set of positive whole numbers from 1 to 10, create a python or C++ program that displays if it is prime or composite."
      ],
      "metadata": {
        "id": "fm7IRKkaTo6l"
      }
    },
    {
      "cell_type": "code",
      "source": [
        "num = [1, 2, 3, 4, 5, 6, 7, 8, 9, 10]\n",
        "\n",
        "for x in num:\n",
        "    if x > 1:\n",
        "        for i in range(2, x):\n",
        "            if (x % i) == 0:\n",
        "                print(x, \"is NOT a prime number\")\n",
        "                break\n",
        "        else:\n",
        "            print(x, \"is a PRIME number\")\n",
        "    elif x == 0 or 1:\n",
        "        print(x, \"is a neither prime NOR composite number\")\n",
        "    else:\n",
        "        print(x, \"is NOT a prime number, it is a COMPOSITE number\")"
      ],
      "metadata": {
        "colab": {
          "base_uri": "https://localhost:8080/"
        },
        "id": "n6pmvouWTrBH",
        "outputId": "20c013be-7e24-4392-e1b7-02fdf364d5df"
      },
      "execution_count": 11,
      "outputs": [
        {
          "output_type": "stream",
          "name": "stdout",
          "text": [
            "1 is a neither prime NOR composite number\n",
            "2 is a PRIME number\n",
            "3 is a PRIME number\n",
            "4 is NOT a prime number\n",
            "5 is a PRIME number\n",
            "6 is NOT a prime number\n",
            "7 is a PRIME number\n",
            "8 is NOT a prime number\n",
            "9 is NOT a prime number\n",
            "10 is NOT a prime number\n"
          ]
        }
      ]
    }
  ]
}