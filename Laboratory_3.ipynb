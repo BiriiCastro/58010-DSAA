{
  "nbformat": 4,
  "nbformat_minor": 0,
  "metadata": {
    "colab": {
      "provenance": [],
      "authorship_tag": "ABX9TyMi3FJ6xIRD/TDQ2wisnyW7",
      "include_colab_link": true
    },
    "kernelspec": {
      "name": "python3",
      "display_name": "Python 3"
    },
    "language_info": {
      "name": "python"
    }
  },
  "cells": [
    {
      "cell_type": "markdown",
      "metadata": {
        "id": "view-in-github",
        "colab_type": "text"
      },
      "source": [
        "<a href=\"https://colab.research.google.com/github/BiriiCastro/58010-DSAA/blob/main/Laboratory_3.ipynb\" target=\"_parent\"><img src=\"https://colab.research.google.com/assets/colab-badge.svg\" alt=\"Open In Colab\"/></a>"
      ]
    },
    {
      "cell_type": "code",
      "execution_count": 4,
      "metadata": {
        "colab": {
          "base_uri": "https://localhost:8080/"
        },
        "id": "VbeuYKXbV1Rf",
        "outputId": "29541c44-80bf-4fee-c6ff-4d00a88b40c7"
      },
      "outputs": [
        {
          "output_type": "stream",
          "name": "stdout",
          "text": [
            "Total Even Test Score: 186\n"
          ]
        }
      ],
      "source": [
        "test_scores = [26, 49, 98, 87, 62, 75]\n",
        "total_score = 0\n",
        "\n",
        "\n",
        "for score in test_scores:\n",
        "  if score % 2 == 0:\n",
        "    total_score += score\n",
        "\n",
        "print(\"Total Even Test Score:\", total_score)\n"
      ]
    }
  ]
}