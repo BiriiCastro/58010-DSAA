{
  "nbformat": 4,
  "nbformat_minor": 0,
  "metadata": {
    "colab": {
      "provenance": [],
      "authorship_tag": "ABX9TyOyJuo5dBBcOUfhxO5PuxBb",
      "include_colab_link": true
    },
    "kernelspec": {
      "name": "python3",
      "display_name": "Python 3"
    },
    "language_info": {
      "name": "python"
    }
  },
  "cells": [
    {
      "cell_type": "markdown",
      "metadata": {
        "id": "view-in-github",
        "colab_type": "text"
      },
      "source": [
        "<a href=\"https://colab.research.google.com/github/BiriiCastro/58010-DSAA/blob/main/Laboratory__1.ipynb\" target=\"_parent\"><img src=\"https://colab.research.google.com/assets/colab-badge.svg\" alt=\"Open In Colab\"/></a>"
      ]
    },
    {
      "cell_type": "code",
      "execution_count": 14,
      "metadata": {
        "colab": {
          "base_uri": "https://localhost:8080/"
        },
        "id": "wGFq_bd-fmGs",
        "outputId": "7192669d-eab2-4e22-9ab8-717f3d8e63fe"
      },
      "outputs": [
        {
          "output_type": "stream",
          "name": "stdout",
          "text": [
            "Name: Triangle\n",
            "Sides: 3\n",
            "Area: 6.0\n"
          ]
        }
      ],
      "source": [
        "class Polygons:\n",
        "    def __init__(self, name, sides, area):\n",
        "        self.name = name\n",
        "        self.sides = sides\n",
        "        self.area = area\n",
        "\n",
        "    def set_name(self, name):\n",
        "        self.name = name\n",
        "\n",
        "    def set_sides(self, sides):\n",
        "        self.sides = sides\n",
        "\n",
        "    def set_area(self, area):\n",
        "        self.area = area\n",
        "\n",
        "    def get_name(self):\n",
        "        return self.name\n",
        "\n",
        "    def get_sides(self):\n",
        "        return self.sides\n",
        "\n",
        "    def get_area(self):\n",
        "        return self.area\n",
        "\n",
        "polygon = Polygons(\"Triangle\", 3, 6.0)\n",
        "print(\"Name:\", polygon.get_name())\n",
        "print(\"Sides:\", polygon.get_sides())\n",
        "print(\"Area:\", polygon.get_area())\n"
      ]
    }
  ]
}