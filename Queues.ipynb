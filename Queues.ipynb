{
  "nbformat": 4,
  "nbformat_minor": 0,
  "metadata": {
    "colab": {
      "provenance": [],
      "authorship_tag": "ABX9TyPxazdFttc/Z+KuULJSMm1W",
      "include_colab_link": true
    },
    "kernelspec": {
      "name": "python3",
      "display_name": "Python 3"
    },
    "language_info": {
      "name": "python"
    }
  },
  "cells": [
    {
      "cell_type": "markdown",
      "metadata": {
        "id": "view-in-github",
        "colab_type": "text"
      },
      "source": [
        "<a href=\"https://colab.research.google.com/github/BiriiCastro/58010-DSAA/blob/main/Queues.ipynb\" target=\"_parent\"><img src=\"https://colab.research.google.com/assets/colab-badge.svg\" alt=\"Open In Colab\"/></a>"
      ]
    },
    {
      "cell_type": "code",
      "execution_count": 2,
      "metadata": {
        "colab": {
          "base_uri": "https://localhost:8080/"
        },
        "id": "XWuVuElhK4oq",
        "outputId": "40423e04-f7b3-45cf-bdea-18b986f585d1"
      },
      "outputs": [
        {
          "output_type": "stream",
          "name": "stdout",
          "text": [
            "['A', 'B']\n"
          ]
        }
      ],
      "source": [
        "#Inserting Elements in the queue, enqueue\n",
        "queue = []\n",
        "\n",
        "queue.append(\"A\")\n",
        "queue.append(\"B\")\n",
        "\n",
        "print(queue)"
      ]
    },
    {
      "cell_type": "code",
      "source": [
        "#Removing Elements in the queue, dequeue\n",
        "\n",
        "queue.pop(0)\n",
        "queue.pop(0)\n",
        "queue.pop(0)\n",
        "\n",
        "print(queue)"
      ],
      "metadata": {
        "colab": {
          "base_uri": "https://localhost:8080/"
        },
        "id": "v5nQhHTpL7at",
        "outputId": "d6077632-06de-42d5-e8f7-63bbf28b4002"
      },
      "execution_count": 6,
      "outputs": [
        {
          "output_type": "stream",
          "name": "stdout",
          "text": [
            "Initial queue\n",
            "deque(['a', 'b', 'c'])\n",
            "\n",
            "Elements dequeued from the queue\n",
            "a\n",
            "b\n",
            "c\n",
            "\n",
            "Queue after removing elements\n",
            "deque([])\n"
          ]
        }
      ]
    },
    {
      "cell_type": "code",
      "source": [
        "from collections import deque\n",
        "\n",
        "# Initializing a queue\n",
        "q = deque()\n",
        "\n",
        "# Adding elements to a queue\n",
        "q.append('a')\n",
        "q.append('b')\n",
        "q.append('c')\n",
        "\n",
        "print(\"Initial queue\")\n",
        "print(q)\n",
        "\n",
        "# Removing elements from a queue\n",
        "print(\"\\nElements dequeued from the queue\")\n",
        "print(q.popleft())\n",
        "print(q.popleft())\n",
        "print(q.popleft())\n",
        "\n",
        "print(\"\\nQueue after removing elements\")\n",
        "print(q)"
      ],
      "metadata": {
        "colab": {
          "base_uri": "https://localhost:8080/"
        },
        "id": "y1xm1hk4M_yO",
        "outputId": "1ff731b4-faeb-43b1-f701-9200968bf955"
      },
      "execution_count": 7,
      "outputs": [
        {
          "output_type": "stream",
          "name": "stdout",
          "text": [
            "Initial queue\n",
            "deque(['a', 'b', 'c'])\n",
            "\n",
            "Elements dequeued from the queue\n",
            "a\n",
            "b\n",
            "c\n",
            "\n",
            "Queue after removing elements\n",
            "deque([])\n"
          ]
        }
      ]
    },
    {
      "cell_type": "markdown",
      "source": [
        "Create a Python program that will traverse all integers (1 to 50) from the list, enqueue those integers that are even in the list, and dequeue afterward until the list becomes empty."
      ],
      "metadata": {
        "id": "umI-CH82OR9l"
      }
    },
    {
      "cell_type": "code",
      "source": [
        "q = []\n",
        "\n",
        "for i in range(1, 50):\n",
        "  if i % 2 == 0:\n",
        "    q.append(i)\n",
        "\n",
        "print(f\"Even integers in 1-50: {q}\")\n",
        "\n",
        "x = len(q)\n",
        "\n",
        "while x > 0:\n",
        "  q.pop(0)\n",
        "  x -= 1\n",
        "\n",
        "print(f\"After deque: {q}\")\n"
      ],
      "metadata": {
        "colab": {
          "base_uri": "https://localhost:8080/"
        },
        "id": "q8t05bmMN7tV",
        "outputId": "4f064c45-ae45-4bf4-cf36-566a1b4c198a"
      },
      "execution_count": 12,
      "outputs": [
        {
          "output_type": "stream",
          "name": "stdout",
          "text": [
            "Even integers in 1-50: [2, 4, 6, 8, 10, 12, 14, 16, 18, 20, 22, 24, 26, 28, 30, 32, 34, 36, 38, 40, 42, 44, 46, 48]\n",
            "After deque: []\n"
          ]
        }
      ]
    }
  ]
}