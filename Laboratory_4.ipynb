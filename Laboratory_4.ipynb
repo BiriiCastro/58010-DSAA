{
  "nbformat": 4,
  "nbformat_minor": 0,
  "metadata": {
    "colab": {
      "provenance": [],
      "authorship_tag": "ABX9TyO/BBw+D8KDnHlvkrp47SiS",
      "include_colab_link": true
    },
    "kernelspec": {
      "name": "python3",
      "display_name": "Python 3"
    },
    "language_info": {
      "name": "python"
    }
  },
  "cells": [
    {
      "cell_type": "markdown",
      "metadata": {
        "id": "view-in-github",
        "colab_type": "text"
      },
      "source": [
        "<a href=\"https://colab.research.google.com/github/BiriiCastro/58010-DSAA/blob/main/Laboratory_4.ipynb\" target=\"_parent\"><img src=\"https://colab.research.google.com/assets/colab-badge.svg\" alt=\"Open In Colab\"/></a>"
      ]
    },
    {
      "cell_type": "markdown",
      "source": [
        "•\tLet A be an array of size n ≥ 2 containing integers from 1 to n−1, inclusive, with exactly one repeated. Describe a fast algorithm for finding the integer in A that is repeated.\n"
      ],
      "metadata": {
        "id": "JitlxfpnmxSY"
      }
    },
    {
      "cell_type": "code",
      "execution_count": 9,
      "metadata": {
        "colab": {
          "base_uri": "https://localhost:8080/"
        },
        "id": "O7yOEal-mtAz",
        "outputId": "52326c61-8282-476a-cbf1-87d848feb411"
      },
      "outputs": [
        {
          "output_type": "stream",
          "name": "stdout",
          "text": [
            "The repeated integer is: 2\n"
          ]
        }
      ],
      "source": [
        "def find_duplicate_integer(arr):\n",
        "    arr.sort()\n",
        "\n",
        "    for i in range(len(arr) - 1):\n",
        "        if arr[i] == arr[i + 1]:\n",
        "            return arr[i]\n",
        "\n",
        "A = [1, 2, 3, 4, 2, 5]\n",
        "result = find_duplicate_integer(A)\n",
        "print(f\"The repeated integer is: {result}\")\n",
        "\n"
      ]
    },
    {
      "cell_type": "markdown",
      "source": [
        "•\tWrite a program that can perform the Caesar cipher for English messages that include both upper- and lowercase characters."
      ],
      "metadata": {
        "id": "ogN88tfOoTkc"
      }
    },
    {
      "cell_type": "code",
      "source": [
        "def caesar_cipher(message, shift):\n",
        "    result = \"\"\n",
        "\n",
        "    for char in message:\n",
        "        if char.isalpha():\n",
        "            is_upper = char.isupper()\n",
        "            shifted_char = chr((ord(char) - ord('A' if is_upper else 'a') + shift) % 26 + ord('A' if is_upper else 'a'))\n",
        "            result += shifted_char\n",
        "        else:\n",
        "            result += char\n",
        "\n",
        "    return result\n",
        "\n",
        "message = input(\"Enter Message: \")\n",
        "shift_value = int(input(\"Enter Shift Value: \"))\n",
        "encrypted_message = caesar_cipher(message, shift_value)\n",
        "print(f\"Encrypted Message: {encrypted_message}\")\n"
      ],
      "metadata": {
        "colab": {
          "base_uri": "https://localhost:8080/"
        },
        "id": "DK0X9bmEoWAu",
        "outputId": "40022266-17f3-445f-a972-15b8fd7906b9"
      },
      "execution_count": null,
      "outputs": [
        {
          "output_type": "stream",
          "name": "stdout",
          "text": [
            "Enter Message: ABCD\n",
            "Enter Shift Value: 3\n",
            "Original Message: ABCD\n",
            "Encrypted Message: DEFG\n"
          ]
        }
      ]
    }
  ]
}