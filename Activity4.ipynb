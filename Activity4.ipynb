{
  "nbformat": 4,
  "nbformat_minor": 0,
  "metadata": {
    "colab": {
      "provenance": [],
      "authorship_tag": "ABX9TyOkO4y94WyCxx6RhOwAkY6G",
      "include_colab_link": true
    },
    "kernelspec": {
      "name": "python3",
      "display_name": "Python 3"
    },
    "language_info": {
      "name": "python"
    }
  },
  "cells": [
    {
      "cell_type": "markdown",
      "metadata": {
        "id": "view-in-github",
        "colab_type": "text"
      },
      "source": [
        "<a href=\"https://colab.research.google.com/github/BiriiCastro/58010-DSAA/blob/main/Activity4.ipynb\" target=\"_parent\"><img src=\"https://colab.research.google.com/assets/colab-badge.svg\" alt=\"Open In Colab\"/></a>"
      ]
    },
    {
      "cell_type": "markdown",
      "source": [
        "Create a Python program that will traverse all integers (1 to 50) from the list, enqueue those integers that are even in the list, and dequeue afterward until the list becomes empty."
      ],
      "metadata": {
        "id": "uAKRhgPrQefy"
      }
    },
    {
      "cell_type": "code",
      "execution_count": null,
      "metadata": {
        "id": "0lcvaj-8Qcds"
      },
      "outputs": [],
      "source": [
        "q = []\n",
        "\n",
        "for i in range(1, 50):\n",
        "  if i % 2 == 0:\n",
        "    q.append(i)\n",
        "\n",
        "print(f\"Even integers in 1-50: {q}\")\n",
        "\n",
        "x = len(q)\n",
        "\n",
        "while x > 0:\n",
        "  q.pop(0)\n",
        "  x -= 1\n",
        "\n",
        "print(f\"After deque: {q}\")"
      ]
    }
  ]
}